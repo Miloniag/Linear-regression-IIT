{
  "nbformat": 4,
  "nbformat_minor": 0,
  "metadata": {
    "colab": {
      "provenance": []
    },
    "kernelspec": {
      "name": "python3",
      "display_name": "Python 3"
    },
    "language_info": {
      "name": "python"
    }
  },
  "cells": [
    {
      "cell_type": "code",
      "execution_count": null,
      "metadata": {
        "id": "3TDibK0Yrxm_"
      },
      "outputs": [],
      "source": [
        "import numpy as np\n",
        "import matplotlib.pyplot as plt\n",
        "import numpy as np"
      ]
    },
    {
      "cell_type": "markdown",
      "source": [
        "# Week-6\n",
        "\n",
        "**Note:**:\n",
        "\n",
        "- For questions that involve plotting, just enter $0$ as the answer in the portal.\n",
        "\n"
      ],
      "metadata": {
        "id": "1TBHlt7hAdN1"
      }
    },
    {
      "cell_type": "markdown",
      "source": [
        "## Dataset\n",
        "\n",
        "Run the cell given below to generate the data-matrix $X$ and target vector $y$. $X$ is of shape $(n, d)$, where $n$ denotes the number of samples and $d$ denotes the number of features. $y$ is of shape $(n,)$. You will be using this dataset for the rest of the assignment.\n",
        "\n",
        "**Do not edit this cell.**"
      ],
      "metadata": {
        "id": "XJKrscLo9qwH"
      }
    },
    {
      "cell_type": "code",
      "source": [
        "from sklearn.datasets import load_diabetes\n",
        "X, y = load_diabetes(return_X_y = True)\n",
        "\n",
        "# set the random seed value to 0\n",
        "np.random.seed(0)"
      ],
      "metadata": {
        "id": "GIygEzr49Xvf"
      },
      "execution_count": null,
      "outputs": []
    },
    {
      "cell_type": "markdown",
      "source": [
        "## Problem 1\n",
        "How many samples are there in the dataset?\n",
        "\n"
      ],
      "metadata": {
        "id": "VAONMkaU91v7"
      }
    },
    {
      "cell_type": "markdown",
      "source": [
        "## Solution"
      ],
      "metadata": {
        "id": "LnXmn5t-V8Us"
      }
    },
    {
      "cell_type": "code",
      "source": [
        "# Write your solution code here\n",
        "samples = X.shape[0]\n",
        "print(samples)"
      ],
      "metadata": {
        "id": "U_WEAtwXDqVF",
        "colab": {
          "base_uri": "https://localhost:8080/"
        },
        "outputId": "bfe787e8-10e2-47b1-ef77-6ca287f53a1b"
      },
      "execution_count": null,
      "outputs": [
        {
          "output_type": "stream",
          "name": "stdout",
          "text": [
            "442\n"
          ]
        }
      ]
    },
    {
      "cell_type": "markdown",
      "source": [
        "## Problem 2\n",
        "\n",
        "How many features are there in the dataset?\n",
        "\n"
      ],
      "metadata": {
        "id": "ozjMS6e_91y3"
      }
    },
    {
      "cell_type": "markdown",
      "source": [
        "## Solution"
      ],
      "metadata": {
        "id": "xvFvIHN9V_s7"
      }
    },
    {
      "cell_type": "code",
      "source": [
        "# Write your solution code here\n",
        "features = X.shape[1]\n",
        "print(features)"
      ],
      "metadata": {
        "id": "ii_yZn4N-Di8",
        "colab": {
          "base_uri": "https://localhost:8080/"
        },
        "outputId": "e2935ce8-f82b-43a4-c1b3-b6793b17c7a7"
      },
      "execution_count": null,
      "outputs": [
        {
          "output_type": "stream",
          "name": "stdout",
          "text": [
            "10\n"
          ]
        }
      ]
    },
    {
      "cell_type": "markdown",
      "source": [
        "## Problem 3\n",
        "Write a function `shuffle_data(X, y)` that returns the shuffled $X$ and $y$.\n",
        "\n",
        "\n",
        "\n",
        "Note that it should shuffle the data pairs $(x_i, y_i)$.\n",
        "\n",
        "What will be the mean of the first 5 values in $y$?\n",
        "\n"
      ],
      "metadata": {
        "id": "HxIZaojUVGIL"
      }
    },
    {
      "cell_type": "code",
      "source": [
        "# Write your solution code here\n",
        "from sklearn.utils import shuffle\n",
        "\n",
        "def shuffle_data(X, y):\n",
        "  X_shuffle , y_shuffle = shuffle(X , y , random_state = 0)\n",
        "  return X_shuffle , y_shuffle\n",
        "\n",
        "# Alternate Method\n",
        "'''\n",
        "import numpy as np\n",
        "\n",
        "def shuffle_data(x,y):\n",
        "  # Set a random seed for reproducibility if needed\n",
        "    np.random.seed(0)\n",
        "\n",
        "    # Generate a permutation of indices based on the length of y\n",
        "    permutation = np.random.permutation(len(y))\n",
        "\n",
        "    # Apply this permutation to both X and y\n",
        "    X_shuffled = X[permutation]\n",
        "    y_shuffled = y[permutation]\n",
        "\n",
        "    return X_shuffled, y_shuffled\n",
        "\n",
        "'''\n",
        "# First Shuffle the data\n",
        "X_shuffled , y_shuffled = shuffle_data(X , y)\n",
        "\n",
        "# Finding mean of the first 5 values in y\n",
        "mean_of_5_values_in_y = y_shuffled[:5].mean()\n",
        "print(\"the mean of the first 5 values in y is :\", mean_of_5_values_in_y)\n",
        "\n",
        "# Alternate Way\n",
        "'''\n",
        "print((y_shuffled[:5].sum()) / 5)\n",
        "'''"
      ],
      "metadata": {
        "id": "uLGsJyGkdgug",
        "colab": {
          "base_uri": "https://localhost:8080/",
          "height": 55
        },
        "outputId": "cba90c60-a5cd-43b0-bb36-fd2024544503"
      },
      "execution_count": null,
      "outputs": [
        {
          "output_type": "stream",
          "name": "stdout",
          "text": [
            "the mean of the first 5 values in y is : 180.4\n"
          ]
        },
        {
          "output_type": "execute_result",
          "data": {
            "text/plain": [
              "'\\nprint((y_shuffled[:5].sum()) / 5)\\n'"
            ],
            "application/vnd.google.colaboratory.intrinsic+json": {
              "type": "string"
            }
          },
          "metadata": {},
          "execution_count": 6
        }
      ]
    },
    {
      "cell_type": "markdown",
      "source": [
        "# **SEED Function in Python**\n",
        "The Concept of np.random.seed()\n",
        "Imagine we have a deck of cards. Every time we shuffle it, the order of the cards changes. Now, what if we want to shuffle the deck in exactly the same way every time we start a game? That’s where the seed comes in. By setting a seed, we’re telling the random shuffling process to use a specific pattern.\n",
        "\n",
        "**Without a Seed:**\n",
        "\n",
        "**Generate random numbers without setting a seed**\n",
        "\n",
        "\n",
        "\n",
        "```\n",
        "import numpy as np\n",
        "\n",
        "random_numbers = np.random.rand(5)\n",
        "\n",
        "print(random_numbers)\n",
        "```\n",
        "\n",
        "\n",
        "\n",
        "Each time we run this, we'll get different numbers.\n",
        "\n",
        "With a Seed:\n",
        "\n",
        "\n",
        "\n",
        "```\n",
        "import numpy as np\n",
        "\n",
        "# Set the seed\n",
        "np.random.seed(0)\n",
        "\n",
        "# Generate random numbers with the seed set\n",
        "random_numbers = np.random.rand(5)\n",
        "print(random_numbers)\n",
        "\n",
        "```\n",
        "\n",
        "Every time we run this code, we'll get the same sequence of random numbers\n"
      ],
      "metadata": {
        "id": "KQHDX_RUQlAi"
      }
    },
    {
      "cell_type": "markdown",
      "source": [
        "## Problem 4\n",
        "\n",
        "Write a function `train_test_split(X, y, test_size)` that divides the data (X, y) into $X_{train}$, $X_{test}$, $y_{train}$, $y_{test}$ respectively as per test_size which should be a value between 0 and 1.\n",
        "\n",
        "That is, if test_size = $t$, then `int(t*n)` data points should go to test and the remaining data points should go to train.\n",
        "\n",
        "$X_{train}$, $X_{test}$, $y_{train}$, $y_{test}$ should be returned by the function.\n",
        "\n",
        "Set the test_size to be 0.25 and output the sum of all y values settling in $y_{test}$.\n",
        "\n",
        "\n",
        "\n",
        "\n",
        "\n",
        "\n"
      ],
      "metadata": {
        "id": "pfsUsn_8WSXZ"
      }
    },
    {
      "cell_type": "code",
      "source": [
        "# Write your solution code here\n",
        "def train_test_split(X, y, test_size):\n",
        "\n",
        "  test_size = int((test_size) * samples)\n",
        "  train_size = samples - test_size\n",
        "  # print(train_size) --> for debugging purpose\n",
        "\n",
        "  X_train , X_test = X_shuffled[:train_size] , X_shuffled[train_size:]\n",
        "  y_train , y_test = y_shuffled[:train_size] , y_shuffled[train_size:]\n",
        "\n",
        "  return X_train , X_test , y_train , y_test\n",
        "\n",
        "# Calling the function\n",
        "X_train , X_test , y_train , y_test = train_test_split(X_shuffled , y_shuffled , test_size = 0.25)\n",
        "\n",
        "# Sum of all y_values setting in y_test\n",
        "print(\"Sum of all y_values setting in y_test is : \" , y_test.sum())\n",
        "\n",
        "# Alternate Method (Easy One)\n",
        "'''\n",
        "from sklearn.model_selection import train_test_split\n",
        "X_train , X_test , y_train , y_test = train_test_split(X , y , test_size = 0.25 ,  random_state = 0)\n",
        "\n",
        "and with this method there is no need to shuffle the data seperately as in this method ,\n",
        "it first shuffles the data and then selects randomly samples\n",
        "'''"
      ],
      "metadata": {
        "id": "Y5VZVbT8dg2b",
        "colab": {
          "base_uri": "https://localhost:8080/",
          "height": 73
        },
        "outputId": "18ddb8d8-f8a7-4081-83fe-3c0eed5d5749"
      },
      "execution_count": null,
      "outputs": [
        {
          "output_type": "stream",
          "name": "stdout",
          "text": [
            "Sum of all y_values setting in y_test is :  16960.0\n"
          ]
        },
        {
          "output_type": "execute_result",
          "data": {
            "text/plain": [
              "'\\nfrom sklearn.model_selection import train_test_split\\nX_train , X_test , y_train , y_test = train_test_split(X , y , test_size = 0.25 ,  random_state = 0)\\n\\nand with this method there is no need to shuffle the data seperately as in this method ,\\nit first shuffles the data and then selects randomly samples\\n'"
            ],
            "application/vnd.google.colaboratory.intrinsic+json": {
              "type": "string"
            }
          },
          "metadata": {},
          "execution_count": 7
        }
      ]
    },
    {
      "cell_type": "markdown",
      "source": [
        "## Problem 5\n",
        "\n",
        "What are the shapes of $X_{train}$, $X_{test}$, $y_{train}$, $y_{test}$ respectively?\n",
        "\n"
      ],
      "metadata": {
        "id": "D67g0r9ad8Ea"
      }
    },
    {
      "cell_type": "code",
      "source": [
        "# Write your solution code here\n",
        "shape_of_X_train = X_train.shape\n",
        "shape_of_X_test = X_test.shape\n",
        "shape_of_y_train = y_train.shape\n",
        "shape_of_y_test = y_test.shape\n",
        "\n",
        "print(\"shape_of_X_train :\" , shape_of_X_train)\n",
        "print(\"shape_of_X_test : \" , shape_of_X_test)\n",
        "print(\"shape_of_y_train :\" , shape_of_y_train)\n",
        "print(\"shape_of_y_test : \" , shape_of_y_test)"
      ],
      "metadata": {
        "id": "kTPAakKblF7q",
        "colab": {
          "base_uri": "https://localhost:8080/"
        },
        "outputId": "2cb2d9bb-4f4d-4aaf-e9b3-2c74fc2c3e4f"
      },
      "execution_count": null,
      "outputs": [
        {
          "output_type": "stream",
          "name": "stdout",
          "text": [
            "shape_of_X_train : (332, 10)\n",
            "shape_of_X_test :  (110, 10)\n",
            "shape_of_y_train : (332,)\n",
            "shape_of_y_test :  (110,)\n"
          ]
        }
      ]
    },
    {
      "cell_type": "markdown",
      "source": [
        "## Problem 6\n",
        "Add a dummy feature, i.e., a column containing all 1's (as the first column) in $X_{train}$ and $X_{test}$.\n",
        "\n",
        "Take the transpose of both $X_{train}$ and $X_{test}$.\n",
        "\n",
        "What are the shapes of $X_{train}$ and $X_{test}$?\n",
        "\n"
      ],
      "metadata": {
        "id": "nYgSo6DLe0n-"
      }
    },
    {
      "cell_type": "code",
      "source": [
        "# Write your solution code here\n",
        "X_train_with_ones = np.hstack([np.ones((X_train.shape[0], 1)), X_train])\n",
        "print(X_train_with_ones.shape)\n",
        "X_test_with_ones = np.hstack([np.ones((X_test.shape[0], 1)), X_test])\n",
        "# hstack() is Horizontal Stack\n",
        "\n",
        "# Taking Transpose\n",
        "X_train_transpose = X_train_with_ones.T\n",
        "X_test_transpose = X_test_with_ones.T\n",
        "\n",
        "# Printing the Shapes of X_train and X_test\n",
        "print(\"The Shape of X_train Transpose is : \" , X_train_transpose.shape)\n",
        "print(\"The Shape of X_test Transpose is : \" ,X_test_transpose.shape)"
      ],
      "metadata": {
        "id": "Lgv2V9qnnNv3",
        "colab": {
          "base_uri": "https://localhost:8080/"
        },
        "outputId": "eefe1d61-1b62-43fa-ca53-f52fcbcdac63"
      },
      "execution_count": null,
      "outputs": [
        {
          "output_type": "stream",
          "name": "stdout",
          "text": [
            "(332, 11)\n",
            "The Shape of X_train Transpose is :  (11, 332)\n",
            "The Shape of X_test Transpose is :  (11, 110)\n"
          ]
        }
      ]
    },
    {
      "cell_type": "markdown",
      "source": [
        "# **Explaination of the Above Code**\n",
        "\n",
        "Adding a dummy feature (a column of ones) to a dataset is a common practice in linear regression and other linear models. This is typically done to incorporate the intercept term (also called the bias term) into the model.\n",
        "\n",
        "In a typical linear regression model, the goal is to fit a line (or a hyperplane in higher dimensions) that best represents the relationship between the input features 𝑋 and the output target 𝑦. The standard linear regression model is:\n",
        "\n",
        "$$\n",
        "y = w_1 x_1 + w_2 x_2 + \\dots + w_n x_n\n",
        "$$\n",
        "\n",
        "$$\n",
        "where\n",
        "$$\n",
        "\n",
        "$$\n",
        "x_1, x_2, \\ldots, x_n \\quad \\text{are the feature inputs}\n",
        "$$\n",
        "\n",
        "\n",
        "$$\n",
        "w_1, w_2, \\ldots, w_n \\quad \\text{are the weights for each feature}\n",
        "$$\n",
        "\n",
        "\n",
        "$$\n",
        "b \\text{ is the intercept or bias term.}\n",
        "$$\n",
        "\n",
        "\n",
        "\n",
        "\n",
        "\n",
        "\n"
      ],
      "metadata": {
        "id": "eng_zg65tZZS"
      }
    },
    {
      "cell_type": "markdown",
      "source": [
        "## Problem 7\n",
        "\n",
        "Write a function `compute_weights(X, y)` that uses the closed form formula of linear regression and returns a weight vector.\n",
        "\n",
        "Call this function by passing $X_{train}$ and $y_{train}$. As the dummy feature was added as the first column, the first value in the weight vector will be the intercept. What is its value (rounded to one decimal place)?\n",
        "\n"
      ],
      "metadata": {
        "id": "mYY6hNkYf7gr"
      }
    },
    {
      "cell_type": "code",
      "source": [
        "# Write your solution code here\n",
        "def compute_weights(X, y):\n",
        "    # Step 1: Calculate X^T (transpose of X)\n",
        "    X_transpose = X.T\n",
        "\n",
        "    # Step 2: Calculate (X^T * X)\n",
        "    XX_transpose = X_transpose @ X\n",
        "\n",
        "    # Step 3: Calculate the inverse of (X^T * X)\n",
        "    XX_transpose_inverse = np.linalg.inv(XX_transpose)\n",
        "\n",
        "    # Step 4: Calculate (X^T * y)\n",
        "    X_y = X_transpose @ y\n",
        "\n",
        "    # Step 5: Calculate w = (X^T * X)^(-1) * X^T * y\n",
        "    w = XX_transpose_inverse @ X_y\n",
        "\n",
        "    return w\n",
        "\n",
        "# Assuming X_train_with_ones includes the bias (column of ones)\n",
        "weight_vector = compute_weights(X_train_with_ones, y_train)"
      ],
      "metadata": {
        "id": "XWxPR8N5nc17"
      },
      "execution_count": null,
      "outputs": []
    },
    {
      "cell_type": "code",
      "source": [
        "print(weight_vector)\n",
        "print(weight_vector.shape)\n",
        "\n",
        "# Intercept (first value in the weight vector)\n",
        "intercept = round(weight_vector[0], 1)\n",
        "\n",
        "print(\"Intercept:\", intercept)\n"
      ],
      "metadata": {
        "colab": {
          "base_uri": "https://localhost:8080/"
        },
        "id": "6NoRJq5W3eEB",
        "outputId": "4066cd82-396e-4b19-d905-200bd22067f7"
      },
      "execution_count": null,
      "outputs": [
        {
          "output_type": "stream",
          "name": "stdout",
          "text": [
            "[ 150.80818855  -37.55141005 -236.69770894  495.94156781  332.66085205\n",
            " -985.56901674  608.20547786  225.71676823  214.06133319  769.84183095\n",
            "  125.14414735]\n",
            "(11,)\n",
            "Intercept: 150.8\n"
          ]
        }
      ]
    },
    {
      "cell_type": "markdown",
      "source": [
        "# **About the Weight Vector & Intercept Value**\n",
        "\n",
        "Formula used above is as follows:\n",
        "\n",
        "\n",
        "\n",
        "$$\n",
        "\\mathbf{w} = (\\mathbf{X}^T \\mathbf{X})^{-1} (\\mathbf{X}^T \\mathbf{y})\n",
        "$$\n",
        "\n",
        "$$\n",
        "Where\n",
        "$$\n",
        "\n",
        "$$\n",
        "\\mathbf{w}:\\text{is the weight vector}\n",
        "$$\n",
        "\n",
        "$$\n",
        "\\mathbf{X}:\\text{is the input matrix (with dummy column of 1s)}\n",
        "$$\n",
        "\n",
        "$$\n",
        "\\mathbf{y}:\\text{is the label vector}\n",
        "$$\n",
        "\n",
        "To find the intercept value in the weight vector, we need to implement the compute_weights function using the closed-form solution for linear regression\n",
        "\n",
        "\n",
        "The intercept is the first value in the weight vector because we added a column of ones as the first column in our feature matrix. This allows the linear regression model to include the intercept term naturally during the weight calculation process."
      ],
      "metadata": {
        "id": "OvS1DFWECSgC"
      }
    },
    {
      "cell_type": "markdown",
      "source": [
        "## Problem 8\n",
        "\n",
        "Write a function `MSE(X, y, w)` that returns the mean squared error for the given `X`, `y` as per `w` values.\n",
        "\n",
        "Using this function, compute the train error and test error.\n",
        "\n",
        "Note: Here `y` is the true `y` for `X`.\n",
        "\n",
        "Compute both train and test error.\n",
        "\n",
        "What is the value of test error?\n"
      ],
      "metadata": {
        "id": "XUKviVRZoh2j"
      }
    },
    {
      "cell_type": "code",
      "source": [
        "# Write your solution code here\n",
        "def MSE(X , y , w):\n",
        "  Xw = X @ w\n",
        "  diff = (Xw - y)\n",
        "  Mean_Squared_Error = np.mean(diff ** 2)\n",
        "  return Mean_Squared_Error\n",
        "\n",
        "Train_Error = MSE(X_train_with_ones , y_train , weight_vector)\n",
        "Test_Error = MSE(X_test_with_ones , y_test , weight_vector)\n",
        "\n",
        "print(\"Train Error is : \" , Train_Error)\n",
        "print(\"Test Error is : \" ,Test_Error)"
      ],
      "metadata": {
        "id": "PkAULslJD48q",
        "colab": {
          "base_uri": "https://localhost:8080/"
        },
        "outputId": "078bc55d-10c7-4640-dd49-1ec14652daa6"
      },
      "execution_count": null,
      "outputs": [
        {
          "output_type": "stream",
          "name": "stdout",
          "text": [
            "Train Error is :  2921.8874514067493\n",
            "Test Error is :  2745.430111174355\n"
          ]
        }
      ]
    },
    {
      "cell_type": "markdown",
      "source": [
        "## Problem 9\n",
        "\n",
        "Write a function `compute_weights_ridge(X, y)` that uses the closed form formula of Ridge regression and returns a weight vector.\n",
        "\n",
        "Call this function by passing  `X_train`, `y_train` and 0.3 as the value of regularization strength.\n",
        "\n",
        "\n",
        "Find the sum of values in the weight vector obtained. How much reduction in total sum of weights is achieved with respect to the the weight vector obtained from 'plain' linear regression (without regularization) computed earlier.\n"
      ],
      "metadata": {
        "id": "mZZVbejulHyv"
      }
    },
    {
      "cell_type": "code",
      "source": [
        "# Write your solution code here\n",
        "def compute_weights_ridge(X , y, R):\n",
        "\n",
        "  X_transpose_X = X.T @ X\n",
        "  # Since X_transpose_X is a Square Matrix we can easily create\n",
        "  # a corresponding Identity matrix of same shape\n",
        "\n",
        "  Identity_Matrix = np.eye(X_transpose_X.shape[0], X_transpose_X.shape[1])\n",
        "  Regularizer_Identity_matrix = R * Identity_Matrix\n",
        "\n",
        "  # Adding the matrices\n",
        "  m = X_transpose_X + Regularizer_Identity_matrix\n",
        "\n",
        "  # Taking the Inverse if the matrix m\n",
        "  m_inverse = np.linalg.inv(m) # -----------> 1\n",
        "\n",
        "  # Computing the Product of X^T y\n",
        "  m1 = X.T @ y # ---------------------------> 2\n",
        "\n",
        "  # Mulitplying 1 & 2\n",
        "  w = m_inverse @ m1\n",
        "\n",
        "  # Returning the final Weight Vector\n",
        "  return w\n",
        "\n",
        "# Calling the Function and storing the result in a variable\n",
        "weight_vector_Ridge = compute_weights_ridge(X_train_with_ones , y_train , 0.3)\n",
        "print(weight_vector_Ridge)"
      ],
      "metadata": {
        "id": "LCyCWK9dqZm1",
        "colab": {
          "base_uri": "https://localhost:8080/"
        },
        "outputId": "e3e15f6c-0d47-4427-d114-55c1212a1365"
      },
      "execution_count": null,
      "outputs": [
        {
          "output_type": "stream",
          "name": "stdout",
          "text": [
            "[ 151.06379834    1.22192839 -142.74026577  386.0768882   269.1193914\n",
            "  -30.20155721  -71.07733651 -151.21600325  105.59399288  329.16542194\n",
            "  135.52074802]\n"
          ]
        }
      ]
    },
    {
      "cell_type": "code",
      "source": [
        "# Find the sum of values in the weight vector obtained.\n",
        "# How much reduction in total sum of weights is achieved with respect to the the weight\n",
        "# vector obtained from 'plain' linear regression (without regularization) computed earlier.\n",
        "\n",
        "w_sum_ridge = weight_vector_Ridge.sum()\n",
        "w_sum_standard = weight_vector.sum()\n",
        "\n",
        "print(\"The Sum of Values in the weight vector obtained under Ridge Regression is : \" , w_sum_ridge)\n",
        "print(\"\\n\")\n",
        "print(\"Reduction in total sum of weights is achieved with respect to the weight vector\" + \"\\n\" +\n",
        "      \"vector obtained from 'plain' linear regression (without regularization) computed earlier is : \" , w_sum_standard - w_sum_ridge)"
      ],
      "metadata": {
        "id": "f7VL3ZLosCtX",
        "colab": {
          "base_uri": "https://localhost:8080/"
        },
        "outputId": "eb2ca715-a860-46c1-9cb8-bab5171564c2"
      },
      "execution_count": null,
      "outputs": [
        {
          "output_type": "stream",
          "name": "stdout",
          "text": [
            "The Sum of Values in the weight vector obtained under Ridge Regression is :  982.5270064293238\n",
            "\n",
            "\n",
            "Reduction in total sum of weights is achieved with respect to the weight vector\n",
            "vector obtained from 'plain' linear regression (without regularization) computed earlier is :  680.0350238507224\n"
          ]
        }
      ]
    },
    {
      "cell_type": "code",
      "source": [
        "# Checking the shape of X_train_transpose @ X_train_with_ones\n",
        "# for debugging purpose\n",
        "M = X_train_transpose @ X_train_with_ones\n",
        "print(M.shape)"
      ],
      "metadata": {
        "id": "l9f4nxNHk_sx",
        "colab": {
          "base_uri": "https://localhost:8080/"
        },
        "outputId": "c5f23057-9cf6-45a9-d2d9-79d87aa4f728"
      },
      "execution_count": null,
      "outputs": [
        {
          "output_type": "stream",
          "name": "stdout",
          "text": [
            "(11, 11)\n"
          ]
        }
      ]
    },
    {
      "cell_type": "markdown",
      "source": [
        "# **Formula Used For Computing The Weight Vector in Ridge Regression**\n",
        "\n",
        "\n",
        "\n",
        "$$\n",
        "\\hat{\\mathbf{w}}_R = (\\mathbf{X}^T \\mathbf{X} + \\lambda \\mathbf{I})^{-1} (\\mathbf{X}^T \\mathbf{y})\n",
        "$$\n",
        "\n",
        "$$ where $$\n",
        "$$ \\mathbf{X}:  \\textbf{is the feature Matrix}. $$\n",
        "$$ \\lambda: \\text{is the Regularization Parameter} $$\n",
        "$$ \\mathbf{I}:  \\textbf{is the Identity Matrix}. $$"
      ],
      "metadata": {
        "id": "vgEw1akT8A6T"
      }
    },
    {
      "cell_type": "markdown",
      "source": [
        "# **Ways to Create Identity Matrix**"
      ],
      "metadata": {
        "id": "DJh5sbhauvvF"
      }
    },
    {
      "cell_type": "code",
      "source": [
        "id = np.identity(3)\n",
        "print(id)"
      ],
      "metadata": {
        "id": "a963dcOAji1A",
        "colab": {
          "base_uri": "https://localhost:8080/"
        },
        "outputId": "ba36befa-0721-4e31-d120-9013cdbd91a4"
      },
      "execution_count": null,
      "outputs": [
        {
          "output_type": "stream",
          "name": "stdout",
          "text": [
            "[[1. 0. 0.]\n",
            " [0. 1. 0.]\n",
            " [0. 0. 1.]]\n"
          ]
        }
      ]
    },
    {
      "cell_type": "code",
      "source": [
        "# Alternate way to Create An Indentity Matrix\n",
        "id1 = np.eye(3)\n",
        "print(id1)\n",
        "'''\n",
        "The np.eye() function is more flexible. It allows us to create a square identity\n",
        "matrix or a rectangular matrix with ones on the diagonal and zeros elsewhere.\n",
        "'''"
      ],
      "metadata": {
        "id": "KoJkyFaFjro3",
        "colab": {
          "base_uri": "https://localhost:8080/",
          "height": 91
        },
        "outputId": "80e35252-2450-4253-e8cf-e8fdc3845543"
      },
      "execution_count": null,
      "outputs": [
        {
          "output_type": "stream",
          "name": "stdout",
          "text": [
            "[[1. 0. 0.]\n",
            " [0. 1. 0.]\n",
            " [0. 0. 1.]]\n"
          ]
        },
        {
          "output_type": "execute_result",
          "data": {
            "text/plain": [
              "'\\nThe np.eye() function is more flexible. It allows us to create a square identity\\nmatrix or a rectangular matrix with ones on the diagonal and zeros elsewhere.\\n'"
            ],
            "application/vnd.google.colaboratory.intrinsic+json": {
              "type": "string"
            }
          },
          "metadata": {},
          "execution_count": 20
        }
      ]
    },
    {
      "cell_type": "code",
      "source": [
        "# We can also create a rectangular matrix using np.eye()\n",
        "# by specifying the number of rows and columns:\n",
        "\n",
        "id3 = np.eye(M.shape[0], M.shape[1])\n",
        "print(id3)"
      ],
      "metadata": {
        "id": "EgKySjmhkVq5",
        "colab": {
          "base_uri": "https://localhost:8080/"
        },
        "outputId": "41bcf75b-db73-4ca5-82d2-f99c9f0b70b6"
      },
      "execution_count": null,
      "outputs": [
        {
          "output_type": "stream",
          "name": "stdout",
          "text": [
            "[[1. 0. 0. 0. 0. 0. 0. 0. 0. 0. 0.]\n",
            " [0. 1. 0. 0. 0. 0. 0. 0. 0. 0. 0.]\n",
            " [0. 0. 1. 0. 0. 0. 0. 0. 0. 0. 0.]\n",
            " [0. 0. 0. 1. 0. 0. 0. 0. 0. 0. 0.]\n",
            " [0. 0. 0. 0. 1. 0. 0. 0. 0. 0. 0.]\n",
            " [0. 0. 0. 0. 0. 1. 0. 0. 0. 0. 0.]\n",
            " [0. 0. 0. 0. 0. 0. 1. 0. 0. 0. 0.]\n",
            " [0. 0. 0. 0. 0. 0. 0. 1. 0. 0. 0.]\n",
            " [0. 0. 0. 0. 0. 0. 0. 0. 1. 0. 0.]\n",
            " [0. 0. 0. 0. 0. 0. 0. 0. 0. 1. 0.]\n",
            " [0. 0. 0. 0. 0. 0. 0. 0. 0. 0. 1.]]\n"
          ]
        }
      ]
    },
    {
      "cell_type": "markdown",
      "source": [
        "## Problem 10\n",
        "\n",
        "Compute the train error and test error. What is their absolute difference?\n",
        "\n"
      ],
      "metadata": {
        "id": "LC9Au6sPt1oT"
      }
    },
    {
      "cell_type": "code",
      "source": [
        "# Write your solution code here\n",
        "\n",
        "# Calling the MSE() Function defined earlier\n",
        "Train_Error_Ridge = MSE(X_train_with_ones , y_train , weight_vector_Ridge)\n",
        "Test_Error_Ridge = MSE(X_test_with_ones , y_test , weight_vector_Ridge)\n",
        "\n",
        "print(\"Train Error under Ridge Regression is : \" , Train_Error_Ridge)\n",
        "print(\"Test Error under Ridge Regression is : \" ,Test_Error_Ridge)\n",
        "print(\"The Absolute Difference Between Train_Error & Test Error under Ridge Regression is :\" , abs(Test_Error_Ridge - Train_Error_Ridge))"
      ],
      "metadata": {
        "id": "iOUjJJpZ3BaZ",
        "colab": {
          "base_uri": "https://localhost:8080/"
        },
        "outputId": "715eb912-7d20-4b4f-cc00-3bbdb6f605f2"
      },
      "execution_count": null,
      "outputs": [
        {
          "output_type": "stream",
          "name": "stdout",
          "text": [
            "Train Error under Ridge Regression is :  3058.8016386551403\n",
            "Test Error under Ridge Regression is :  2959.3318999461417\n",
            "The Absolute Difference Between Train_Error & Test Error under Ridge Regression is : 99.46973870899865\n"
          ]
        }
      ]
    },
    {
      "cell_type": "markdown",
      "source": [
        "## Problem 11\n",
        "\n",
        "Use 10 different values between 0 and 5 as the regularization strength and keep a record of the weight vectors obtained for each. Further, calculate the sum of weights for each weight vector.\n",
        "\n",
        "Plot these sums of weights (on y-axis) with respect to the regularization strength (on x-axis) and observe the reduction in (sum of) weights.\n",
        "\n"
      ],
      "metadata": {
        "id": "Wn6-FG5puh8O"
      }
    },
    {
      "cell_type": "code",
      "source": [
        "# Write your solution code here\n",
        "\n",
        "# Computing and Storing different values\n",
        "# for lambda and computing the corresponding sum\n",
        "# of weight vector at that lambda (or regularizer)\n",
        "# and then storing this info in a dictionary\n",
        "# where keys are values of regularizer\n",
        "# and values are weight vectoe sums values\n",
        "\n",
        "import random\n",
        "diff_regularizer_values_weights = {}\n",
        "random.seed(0)\n",
        "\n",
        "for _ in range(10):\n",
        "  value = round(random.uniform(0 , 5) , 2)\n",
        "  value_w = (compute_weights_ridge(X_train_with_ones , y_train , value)).sum()\n",
        "  diff_regularizer_values_weights[value] = round(value_w , 2)\n",
        "\n",
        "print(diff_regularizer_values_weights)"
      ],
      "metadata": {
        "id": "zlzueWYWwtSi",
        "colab": {
          "base_uri": "https://localhost:8080/"
        },
        "outputId": "1a0d6a67-4413-4c67-ac5d-5513b2ad5e99"
      },
      "execution_count": null,
      "outputs": [
        {
          "output_type": "stream",
          "name": "stdout",
          "text": [
            "{4.22: 551.15, 3.79: 576.42, 2.1: 714.51, 1.29: 814.89, 2.56: 669.16, 2.02: 723.16, 3.92: 568.46, 1.52: 783.3, 2.38: 686.06, 2.92: 638.25}\n"
          ]
        }
      ]
    },
    {
      "cell_type": "code",
      "source": [
        "plt.scatter(diff_regularizer_values_weights.keys() , diff_regularizer_values_weights.values() , color = \"black\")\n",
        "plt.xlabel(\"Regularizer Values (or $\\\\lambda$)\")\n",
        "plt.ylabel(\"Sum of Weight Vectors\")\n",
        "plt.title(\"Sum of Weight Vectors V/S Regularizer Values (or $\\\\lambda$)\")\n",
        "# plt.legend()"
      ],
      "metadata": {
        "id": "e6puPtnq47m7",
        "colab": {
          "base_uri": "https://localhost:8080/",
          "height": 496
        },
        "outputId": "c125a35d-7f2a-4763-d637-9c29ac3f7bbc"
      },
      "execution_count": null,
      "outputs": [
        {
          "output_type": "execute_result",
          "data": {
            "text/plain": [
              "Text(0.5, 1.0, 'Sum of Weight Vectors V/S Regularizer Values (or $\\\\lambda$)')"
            ]
          },
          "metadata": {},
          "execution_count": 24
        },
        {
          "output_type": "display_data",
          "data": {
            "text/plain": [
              "<Figure size 640x480 with 1 Axes>"
            ],
            "image/png": "[encoded data removed]"
          },
          "metadata": {}
        }
      ]
    },
    {
      "cell_type": "markdown",
      "source": [
        "# **Computing R Square Value (R^2)**\n",
        "\n"
      ],
      "metadata": {
        "id": "lWPUKRFvAwZq"
      }
    },
    {
      "cell_type": "code",
      "source": [
        "# Creating the Function For Residual Sum Squared\n",
        "def RSS(X , y , w):\n",
        "  Xw = X @ w\n",
        "  diff = Xw - y\n",
        "  Residual_Sum_Sq = (diff ** 2).sum()\n",
        "\n",
        "  return Residual_Sum_Sq\n",
        "\n",
        "Standard_Linear_RSS = RSS(X_test_with_ones , y_test , weight_vector)\n",
        "Ridge_Regression_RSS = RSS(X_test_with_ones , y_test , weight_vector_Ridge)\n",
        "\n",
        "print(\"The Residual Sum Squared for Standard Linear Regression Algorithm is : \", Standard_Linear_RSS)\n",
        "print(\"The Residual Sum Squared for Ridge Linear Regression Algorithm is : \", Ridge_Regression_RSS)\n",
        "print(\"_____________________________________________________________________________________________\")\n",
        "\n",
        "# __________________________________________________________________________________________________________\n",
        "\n",
        "# Creating the Function For Total Sum Squared\n",
        "def TSS(y):\n",
        "  avg_y = np.average(y)\n",
        "  Total_Sum_Sq = ((y - avg_y) ** 2).sum()\n",
        "\n",
        "  return Total_Sum_Sq\n",
        "\n",
        "Common_TSS = TSS(y_test)\n",
        "print(\"The Total Sum Squared for Both the Algorithms is : \" , Common_TSS)"
      ],
      "metadata": {
        "id": "4rdbi37ZA6dR",
        "colab": {
          "base_uri": "https://localhost:8080/"
        },
        "outputId": "1e3a076a-c0ea-4c9c-8509-d0fe34b8fde1"
      },
      "execution_count": null,
      "outputs": [
        {
          "output_type": "stream",
          "name": "stdout",
          "text": [
            "The Residual Sum Squared for Standard Linear Regression Algorithm is :  301997.312229179\n",
            "The Residual Sum Squared for Ridge Linear Regression Algorithm is :  325526.5089940756\n",
            "_____________________________________________________________________________________________\n",
            "The Total Sum Squared for Both the Algorithms is :  736044.3636363635\n"
          ]
        }
      ]
    },
    {
      "cell_type": "code",
      "source": [
        "unexplained_variance_standard = round((Standard_Linear_RSS / Common_TSS) , 2)\n",
        "explained_variance_standard = 1 - unexplained_variance_standard\n",
        "\n",
        "print(\"The R^2 Square for Standard Linear Algorithm is : \" , round(explained_variance_standard , 2))"
      ],
      "metadata": {
        "id": "xF2M18kTHg3J",
        "colab": {
          "base_uri": "https://localhost:8080/"
        },
        "outputId": "5a936ae3-9238-446e-938c-2640a9a5acef"
      },
      "execution_count": null,
      "outputs": [
        {
          "output_type": "stream",
          "name": "stdout",
          "text": [
            "The R^2 Square for Standard Linear Algorithm is :  0.59\n"
          ]
        }
      ]
    },
    {
      "cell_type": "code",
      "source": [
        "unexplained_variance_ridge = round((Ridge_Regression_RSS / Common_TSS) , 2)\n",
        "explained_variance_ridge = 1 - unexplained_variance_ridge\n",
        "\n",
        "print(\"The R^2 Square for Ridge_Regression Algorithm is : \" , round(explained_variance_ridge , 2))"
      ],
      "metadata": {
        "id": "-SCKntwjLV9B",
        "colab": {
          "base_uri": "https://localhost:8080/"
        },
        "outputId": "3d03918b-7835-49a5-f39e-f9276c54c2ab"
      },
      "execution_count": null,
      "outputs": [
        {
          "output_type": "stream",
          "name": "stdout",
          "text": [
            "The R^2 Square for Ridge_Regression Algorithm is :  0.56\n"
          ]
        }
      ]
    },
    {
      "cell_type": "markdown",
      "source": [
        "# **R^2 Square Evaluation Metric Explaination**\n",
        "\n",
        "$$ R^2 = 1 - \\frac{\\sum_{i=1}^{n} (y_i - \\hat{y}_i)^2}{\\sum_{i=1}^{n} (y_i - \\bar{y})^2}\n",
        "$$\n",
        "\n",
        "$$ {\\sum_{i=1}^{n} (y_i - \\hat{y}_i)^2} : RSS$$\n",
        "$$ {\\sum_{i=1}^{n} (y_i - \\bar{y})^2} : TSS$$\n",
        "\n",
        "$$ where $$\n",
        "$$ \\text{RSS} : \\text{Residual Sum of Squares} $$\n",
        "$$ \\text{TSS} : \\text{Total Sum of Squares} $$\n",
        "\n",
        "**Definition**\n",
        "\n",
        "The R-squared (or coefficient of determination) measures the proportion of the variance in the dependent variable\n",
        "𝑦\n",
        " that is predictable from the independent variables\n",
        "𝑋\n",
        ".\n",
        "\n",
        "**RSS**\n",
        "\n",
        "This is the sum of the squared differences between the actual values 𝒚i and the predicted values ̂{y}_i . It measures how much error remains in the model's predictions.\n",
        "\n",
        "\n",
        "**TSS**\n",
        "\n",
        "This measures the total variation in the data, i.e., how much the actual values\n",
        "𝒚i deviate from the mean of the data y avg . It's the total variability in\n",
        "𝑦\n",
        "that we are trying to explain with our model.\n",
        "\n",
        "\n",
        "\n",
        "**Intuition of R^2**\n",
        "\n",
        "It tells us how much of the total variation in\n",
        "𝑦\n",
        "is explained by the model.\n",
        "\n",
        "\n",
        "\n",
        "*   When R^2 = 1 : All the points lie perfectly on the regression line, meaning 100% of the variation in\n",
        "𝑦\n",
        "is explained by\n",
        "𝑋\n",
        "\n",
        "*   When R^2 = 0 : The model does no better than simply predicting the mean of\n",
        "𝑦 for every point (no explanatory power).\n",
        "\n"
      ],
      "metadata": {
        "id": "zFSNila7Z0-2"
      }
    }
  ]
}